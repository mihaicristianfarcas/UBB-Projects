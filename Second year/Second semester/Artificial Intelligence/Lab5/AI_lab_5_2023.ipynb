{
 "cells": [
  {
   "cell_type": "markdown",
   "id": "b8210b19",
   "metadata": {},
   "source": [
    "## A.I. Assignment 5\n",
    "\n",
    "## Learning Goals\n",
    "\n",
    "By the end of this lab, you should be able to:\n",
    "* Get more familiar with tensors in pytorch \n",
    "* Create a simple multilayer perceptron model with pytorch\n",
    "* Visualise the parameters\n",
    "\n",
    "\n",
    "### Task\n",
    "\n",
    "Build a fully connected feed forward network that adds two bits. Determine the a propper achitecture for this network (what database you use for this problem? how many layers? how many neurons on each layer? what is the activation function? what is the loss function? etc)\n",
    "\n",
    "Create at least 3 such networks and compare their performance (how accurate they are?, how farst they are trained to get at 1 accuracy?)\n",
    "\n",
    "Display for the best one the weights for each layer.\n"
   ]
  },
  {
   "cell_type": "code",
   "execution_count": 1,
   "id": "e3614e5f",
   "metadata": {},
   "outputs": [],
   "source": [
    "import torch\n",
    "import torch.nn as nn\n",
    "from collections import OrderedDict"
   ]
  },
  {
   "cell_type": "code",
   "execution_count": 2,
   "id": "5ee7e7d7",
   "metadata": {},
   "outputs": [],
   "source": [
    "# in 2 bits\n",
    "# out 1 bit, carry 1 bit\n",
    "\n",
    "# your code here\n",
    "model1 = nn.Sequential(OrderedDict([\n",
    "          ('input', nn.Linear(2, 5)),\n",
    "          ('relu1', nn.ReLU()),\n",
    "          ('output', nn.Linear(5, 2)),\n",
    "          ('sigmoid', nn.Sigmoid())\n",
    "        ]))\n",
    "\n",
    "model2 = nn.Sequential(OrderedDict([\n",
    "          ('input', nn.Linear(2, 10)),\n",
    "          ('relu1', nn.ReLU()),\n",
    "          ('output', nn.Linear(10, 2)),\n",
    "          ('sigmoid', nn.Sigmoid())\n",
    "        ]))\n",
    "\n",
    "model3 = nn.Sequential(OrderedDict([\n",
    "          ('input', nn.Linear(2, 8)),\n",
    "          ('relu1', nn.ReLU()),\n",
    "          ('output', nn.Linear(8, 6)),\n",
    "          ('relu2', nn.ReLU()),\n",
    "          ('output2', nn.Linear(6, 4)),\n",
    "          ('relu3', nn.ReLU()),\n",
    "          ('output3', nn.Linear(4, 2)),\n",
    "          ('sigmoid', nn.Sigmoid())\n",
    "        ]))"
   ]
  },
  {
   "cell_type": "code",
   "execution_count": 3,
   "id": "665ae958",
   "metadata": {},
   "outputs": [
    {
     "name": "stdout",
     "output_type": "stream",
     "text": [
      "Sequential(\n",
      "  (input): Linear(in_features=2, out_features=5, bias=True)\n",
      "  (relu1): ReLU()\n",
      "  (output): Linear(in_features=5, out_features=2, bias=True)\n",
      "  (sigmoid): Sigmoid()\n",
      ")\n"
     ]
    }
   ],
   "source": [
    "print(model1)"
   ]
  },
  {
   "cell_type": "code",
   "execution_count": 4,
   "id": "80d746d8",
   "metadata": {},
   "outputs": [
    {
     "name": "stdout",
     "output_type": "stream",
     "text": [
      "Sequential(\n",
      "  (input): Linear(in_features=2, out_features=10, bias=True)\n",
      "  (relu1): ReLU()\n",
      "  (output): Linear(in_features=10, out_features=2, bias=True)\n",
      "  (sigmoid): Sigmoid()\n",
      ")\n"
     ]
    }
   ],
   "source": [
    "print(model2)"
   ]
  },
  {
   "cell_type": "code",
   "execution_count": 5,
   "id": "aa55f5a6",
   "metadata": {},
   "outputs": [
    {
     "name": "stdout",
     "output_type": "stream",
     "text": [
      "Sequential(\n",
      "  (input): Linear(in_features=2, out_features=8, bias=True)\n",
      "  (relu1): ReLU()\n",
      "  (output): Linear(in_features=8, out_features=6, bias=True)\n",
      "  (relu2): ReLU()\n",
      "  (output2): Linear(in_features=6, out_features=4, bias=True)\n",
      "  (relu3): ReLU()\n",
      "  (output3): Linear(in_features=4, out_features=2, bias=True)\n",
      "  (sigmoid): Sigmoid()\n",
      ")\n"
     ]
    }
   ],
   "source": [
    "print(model3)"
   ]
  },
  {
   "cell_type": "code",
   "execution_count": 6,
   "id": "e26f0d3e",
   "metadata": {},
   "outputs": [
    {
     "name": "stdout",
     "output_type": "stream",
     "text": [
      "tensor([[0., 0.],\n",
      "        [0., 1.],\n",
      "        [1., 0.],\n",
      "        [1., 1.]])\n"
     ]
    }
   ],
   "source": [
    "data_in = torch.tensor([[0,0],[0,1],[1,0],[1,1]], dtype=torch.float32)\n",
    "print(data_in)"
   ]
  },
  {
   "cell_type": "code",
   "execution_count": 7,
   "id": "4fb16bbc",
   "metadata": {},
   "outputs": [
    {
     "name": "stdout",
     "output_type": "stream",
     "text": [
      "tensor([[0., 0.],\n",
      "        [1., 0.],\n",
      "        [1., 0.],\n",
      "        [1., 1.]])\n"
     ]
    }
   ],
   "source": [
    "data_target = torch.tensor([[0, 0],[1, 0],[1, 0],[1, 1]], dtype=torch.float32)\n",
    "print(data_target)"
   ]
  },
  {
   "cell_type": "code",
   "execution_count": 8,
   "id": "69d920ed",
   "metadata": {},
   "outputs": [],
   "source": [
    "criterion1 = torch.nn.BCELoss()\n",
    "optimizer1 = torch.optim.Adam(model1.parameters(), lr=0.01)\n",
    "optimizer2 = torch.optim.Adam(model2.parameters(), lr=0.01)\n",
    "optimizer3 = torch.optim.Adam(model3.parameters(), lr=0.01)"
   ]
  },
  {
   "cell_type": "code",
   "execution_count": 9,
   "id": "cde91f6f",
   "metadata": {},
   "outputs": [],
   "source": [
    "def train_model(model, data_in, data_target, criterion, optimizer, num_epochs):\n",
    "    \n",
    "    losses = []\n",
    "    for epoch in range(num_epochs):\n",
    "        optimizer.zero_grad()\n",
    "        outputs = model(data_in)\n",
    "        loss = criterion(outputs, data_target)\n",
    "        loss.backward()\n",
    "        optimizer.step()\n",
    "        losses.append(loss.item())\n",
    "    if (epoch + 1) % 100 == 0:\n",
    "        print(f'Epoch {epoch + 1}/{num_epochs}, Loss: {loss.item():.4f}')\n",
    "\n",
    "    print(\"Training complete\")\n",
    "\n",
    "    return loss.item(), losses\n",
    "\n",
    "\n",
    "test_data = torch.tensor([[0,0],[0,1],[1,0],[1,1]], dtype=torch.float32)\n",
    "test_target = torch.tensor([[0, 0],[1, 0],[1, 0],[1, 1]], dtype=torch.float32)\n",
    "\n",
    "def test_model(model, data_in, data_target):\n",
    "    with torch.no_grad():\n",
    "        outputs = model(data_in)\n",
    "    predicted = (outputs > 0.5).float()\n",
    "\n",
    "    print(\"Predicted:\")\n",
    "    print(predicted)\n",
    "    print(\"Target:\")\n",
    "    print(test_target)\n",
    "    \n",
    "    print(\"accuracy:\")\n",
    "    print(torch.sum(predicted == data_target) / len(data_target))\n",
    "\n",
    "    return torch.sum(predicted == data_target).item() / (data_target.numel())"
   ]
  },
  {
   "cell_type": "code",
   "execution_count": 10,
   "id": "dff3ec1a",
   "metadata": {},
   "outputs": [
    {
     "name": "stdout",
     "output_type": "stream",
     "text": [
      "Epoch 400/400, Loss: 0.0090\n",
      "Training complete\n",
      "Predicted:\n",
      "tensor([[0., 0.],\n",
      "        [1., 0.],\n",
      "        [1., 0.],\n",
      "        [1., 1.]])\n",
      "Target:\n",
      "tensor([[0., 0.],\n",
      "        [1., 0.],\n",
      "        [1., 0.],\n",
      "        [1., 1.]])\n",
      "accuracy:\n",
      "tensor(2.)\n",
      "Epoch 400/400, Loss: 0.0038\n",
      "Training complete\n",
      "Predicted:\n",
      "tensor([[0., 0.],\n",
      "        [1., 0.],\n",
      "        [1., 0.],\n",
      "        [1., 1.]])\n",
      "Target:\n",
      "tensor([[0., 0.],\n",
      "        [1., 0.],\n",
      "        [1., 0.],\n",
      "        [1., 1.]])\n",
      "accuracy:\n",
      "tensor(2.)\n",
      "Epoch 400/400, Loss: 0.5623\n",
      "Training complete\n",
      "Predicted:\n",
      "tensor([[1., 0.],\n",
      "        [1., 0.],\n",
      "        [1., 0.],\n",
      "        [1., 0.]])\n",
      "Target:\n",
      "tensor([[0., 0.],\n",
      "        [1., 0.],\n",
      "        [1., 0.],\n",
      "        [1., 1.]])\n",
      "accuracy:\n",
      "tensor(1.5000)\n",
      "Model 1: Loss: 0.008964397013187408, Accuracy: 1.0\n",
      "Model 2: Loss: 0.003786724526435137, Accuracy: 1.0\n",
      "Model 3: Loss: 0.5623496770858765, Accuracy: 0.75\n"
     ]
    }
   ],
   "source": [
    "loss1, losses1 = train_model(model1, data_in, data_target, criterion1, optimizer1, 400)\n",
    "acc1 = test_model(model1, test_data, test_target)\n",
    "\n",
    "loss2, losses2 = train_model(model2, data_in, data_target, criterion1, optimizer2, 400)\n",
    "acc2 = test_model(model2, test_data, test_target)\n",
    "\n",
    "loss3, losses3 = train_model(model3, data_in, data_target, criterion1, optimizer3, 400)\n",
    "acc3 = test_model(model3, test_data, test_target)\n",
    "\n",
    "print(f\"Model 1: Loss: {loss1}, Accuracy: {acc1}\")\n",
    "print(f\"Model 2: Loss: {loss2}, Accuracy: {acc2}\")\n",
    "print(f\"Model 3: Loss: {loss3}, Accuracy: {acc3}\")"
   ]
  },
  {
   "cell_type": "code",
   "execution_count": 11,
   "id": "c1a7518b",
   "metadata": {},
   "outputs": [
    {
     "data": {
      "image/png": "[encoded data removed]",
      "text/plain": [
       "<Figure size 800x500 with 1 Axes>"
      ]
     },
     "metadata": {},
     "output_type": "display_data"
    }
   ],
   "source": [
    "import matplotlib.pyplot as plt\n",
    "\n",
    "plt.figure(figsize=(8, 5))\n",
    "plt.plot(losses1, label=\"Model 1\", color='blue')\n",
    "plt.plot(losses2, label=\"Model 2\", color='orange')\n",
    "plt.plot(losses3, label=\"Model 3\", color='green')\n",
    "\n",
    "plt.xlabel(\"Epochs\")\n",
    "plt.ylabel(\"Loss\")\n",
    "plt.legend()\n",
    "plt.grid(True)\n",
    "\n",
    "plt.show()"
   ]
  },
  {
   "cell_type": "code",
   "execution_count": 12,
   "id": "4cdf09ba",
   "metadata": {},
   "outputs": [
    {
     "name": "stdout",
     "output_type": "stream",
     "text": [
      "OrderedDict({'input.weight': tensor([[-0.0107, -0.6810],\n",
      "        [ 0.3485,  0.2264],\n",
      "        [ 2.3890,  2.9126],\n",
      "        [-2.1290, -0.3097],\n",
      "        [ 2.0467, -2.0468]]), 'input.bias': tensor([-3.8439e-01, -2.2601e-01,  1.1278e-05,  3.5385e+00, -3.7955e-05]), 'output.weight': tensor([[ 0.2781,  0.0904,  2.5519, -0.8784,  0.7740],\n",
      "        [ 0.0441,  0.6458,  1.6007, -2.4259, -2.2203]]), 'output.bias': tensor([-0.4576, -1.2651])})\n"
     ]
    }
   ],
   "source": [
    "print(model1.state_dict())"
   ]
  },
  {
   "cell_type": "code",
   "execution_count": 13,
   "id": "d0bea66c",
   "metadata": {},
   "outputs": [
    {
     "name": "stdout",
     "output_type": "stream",
     "text": [
      "OrderedDict({'input.weight': tensor([[ 0.0942, -0.2106],\n",
      "        [ 2.5517,  0.8397],\n",
      "        [ 1.6479,  2.3692],\n",
      "        [-1.8909,  1.8911],\n",
      "        [ 0.0377,  0.5019],\n",
      "        [-1.8907, -0.1088],\n",
      "        [ 0.1029, -1.9125],\n",
      "        [-0.2386,  0.4408],\n",
      "        [ 2.0449,  1.3877],\n",
      "        [ 0.8490,  1.2754]]), 'input.bias': tensor([-2.0217e-01,  5.2151e-05, -9.1959e-05, -1.8389e-04, -8.0911e-01,\n",
      "         1.9998e+00,  2.6073e+00, -6.5759e-01,  1.2455e-05, -8.4832e-01]), 'output.weight': tensor([[-1.5838e-03,  1.2272e+00,  1.3083e+00,  1.9293e+00, -5.7967e-02,\n",
      "         -1.3768e+00, -6.5304e-01, -1.5096e-01,  1.2704e+00,  1.6094e-01],\n",
      "        [ 3.5455e-02, -2.8029e-01,  1.2597e+00, -2.0879e+00, -1.5481e-01,\n",
      "         -1.5763e+00, -2.1666e+00, -1.7134e-01,  5.0766e-01,  1.8732e+00]]), 'output.bias': tensor([-0.3823, -1.3629])})\n"
     ]
    }
   ],
   "source": [
    "print(model2.state_dict())"
   ]
  },
  {
   "cell_type": "code",
   "execution_count": 14,
   "id": "e29c65a2",
   "metadata": {},
   "outputs": [
    {
     "name": "stdout",
     "output_type": "stream",
     "text": [
      "OrderedDict({'input.weight': tensor([[ 0.0493,  0.2232],\n",
      "        [-0.6691, -0.1291],\n",
      "        [-0.5892, -0.5623],\n",
      "        [-0.1374,  0.3925],\n",
      "        [ 0.2205, -0.2437],\n",
      "        [ 0.4116,  0.5014],\n",
      "        [ 0.6807,  0.2354],\n",
      "        [ 0.4846, -0.3082]]), 'input.bias': tensor([ 0.2948, -0.0797,  0.5235, -0.2766,  0.7528, -0.0244,  0.6382, -0.3004]), 'output.weight': tensor([[-0.1555, -0.1347,  0.5138, -0.0839,  0.2763, -0.3839, -0.3182,  0.1176],\n",
      "        [-0.2680,  0.2467, -0.2368, -0.0768, -0.3132, -0.2445, -0.2865,  0.0232],\n",
      "        [-0.2490,  0.0196,  0.0421,  0.0750, -0.2950, -0.2374,  0.1135, -0.2794],\n",
      "        [-0.1066,  0.1538,  0.2386,  0.0273, -0.0675,  0.3157, -0.1761,  0.1386],\n",
      "        [ 0.2048,  0.1839, -0.4625,  0.2876,  0.4629,  0.4884,  0.0459,  0.3811],\n",
      "        [-0.0080, -0.3497, -0.4948,  0.0849,  0.5009,  0.3907,  0.4287,  0.2318]]), 'output.bias': tensor([ 0.1111, -0.2514,  0.0065,  0.0045,  0.3195,  0.4040]), 'output2.weight': tensor([[ 0.1538,  0.0864, -0.2601, -0.0951, -0.2635, -0.1444],\n",
      "        [-0.3274, -0.0863, -0.2566, -0.3038,  0.0721, -0.1542],\n",
      "        [-0.1712,  0.2655,  0.1460,  0.1215,  0.1373, -0.2009],\n",
      "        [ 0.2882, -0.2262,  0.3194,  0.1670, -0.2654, -0.2713]]), 'output2.bias': tensor([-0.3427, -0.0615, -0.0348,  0.1626]), 'output3.weight': tensor([[-0.4610,  0.4441,  0.2036, -0.2951],\n",
      "        [-0.3951, -0.3170, -0.3164,  0.0903]]), 'output3.bias': tensor([ 1.0986, -1.0813])})\n"
     ]
    }
   ],
   "source": [
    "print(model3.state_dict())"
   ]
  },
  {
   "cell_type": "code",
   "execution_count": null,
   "id": "e693e559",
   "metadata": {},
   "outputs": [],
   "source": []
  }
 ],
 "metadata": {
  "kernelspec": {
   "display_name": "MIKErnel",
   "language": "python",
   "name": "venv"
  },
  "language_info": {
   "codemirror_mode": {
    "name": "ipython",
    "version": 3
   },
   "file_extension": ".py",
   "mimetype": "text/x-python",
   "name": "python",
   "nbconvert_exporter": "python",
   "pygments_lexer": "ipython3",
   "version": "3.13.2"
  }
 },
 "nbformat": 4,
 "nbformat_minor": 5
}
